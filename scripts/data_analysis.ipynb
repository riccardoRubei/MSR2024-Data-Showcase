{
 "cells": [
  {
   "cell_type": "code",
   "execution_count": null,
   "metadata": {},
   "outputs": [],
   "source": [
    "import pandas as pd\n",
    "import numpy as np\n",
    "import matplotlib.pyplot as plt\n",
    "import matplotlib.dates as dates\n",
    "import os\n",
    "import math\n",
    "from ast import literal_eval\n",
    "from collections import defaultdict\n",
    "from matplotlib_venn import venn3, venn3_circles\n",
    "from matplotlib_venn import venn2, venn2_circles\n"
   ]
  },
  {
   "cell_type": "markdown",
   "metadata": {},
   "source": [
    "# Datasets"
   ]
  },
  {
   "cell_type": "markdown",
   "metadata": {},
   "source": [
    "## Genres and Platforms"
   ]
  },
  {
   "cell_type": "code",
   "execution_count": null,
   "metadata": {},
   "outputs": [],
   "source": [
    "df_genres = pd.read_csv('../genres.csv', header=None)\n",
    "df_genres.columns = ['genre_id', 'genre_name']\n",
    "\n",
    "df_platforms = pd.read_csv('../platforms.csv', header=None)\n",
    "df_platforms.columns = ['platform_id', 'platform_name']\n",
    "\n",
    "dict_platform_nintendo = {\n",
    "    137:\"New Nintendo 3DS\",\n",
    "    37:\"Nintendo 3DS\",\n",
    "    4:\"Nintendo 64\",\n",
    "    416:\"Nintendo 64DD\",\n",
    "    20:\"Nintendo DS\",\n",
    "    159:\"Nintendo DSi\",\n",
    "    18:\"Nintendo Entertainment System\",\n",
    "    21:\"Nintendo GameCube\",\n",
    "    131:\"Nintendo PlayStation\",\n",
    "    130:\"Nintendo Switch\",\n",
    "    19:\"Super Nintendo Entertainment System\",\n",
    "    5:\"Wii\",\n",
    "    41:\"Wii U\"\n",
    "}\n",
    "\n",
    "dict_platform_playstation = {\n",
    "    38:\"PlayStation Portable\",\n",
    "    9:\"PlayStation 3\",\n",
    "    131:\"Nintendo PlayStation\",\n",
    "    46:\"PlayStation Vita\",\n",
    "    48:\"PlayStation 4\",\n",
    "    167:\"PlayStation 5\",\n",
    "    7:\"PlayStation\",\n",
    "    390:\"PlayStation VR2\",\n",
    "    165:\"PlayStation VR\",\n",
    "    8:\"PlayStation 2\"\n",
    "}\n",
    "        \n",
    "dict_platform_xbox = {\n",
    "    11:\"Xbox\",\n",
    "    12:\"Xbox 360\",\n",
    "    49:\"Xbox One\",\n",
    "    169:\"Xbox Series X|S\"\n",
    "}\n",
    "\n",
    "dict_platform_pc = {\n",
    "    6 : \"PC (Microsoft Windows)\",\n",
    "    3: \"Linux\",\n",
    "    163: \"SteamVR\",\n",
    "    162: \"Oculus VR\",\n",
    "    13: \"DOS\",\n",
    "    161: \"Windows Mixed Reality\",\n",
    "    14: \"Mac\",\n",
    "    16: \"Amiga\",\n",
    "    386: \"Meta Quest 2\",\n",
    "    27: \"MSX\"\n",
    "}\n",
    "\n",
    "dict_platform = {\n",
    "    **dict_platform_nintendo, \n",
    "    **dict_platform_playstation, \n",
    "    **dict_platform_xbox, \n",
    "    **dict_platform_pc\n",
    "}\n",
    "\n",
    "# show genres columns\n",
    "df_genres.head()\n",
    "\n",
    "# list all platforms that are not in dict_platform_xbox, dict_platform_nintendo, dict_platform_playstation\n",
    "df_platforms_pc = df_platforms[~df_platforms['platform_id'].isin(dict_platform_xbox.keys()) & ~df_platforms['platform_id'].isin(dict_platform_nintendo.keys()) & ~df_platforms['platform_id'].isin(dict_platform_playstation.keys())]\n",
    "\n",
    "# put the df_platforms_pc at dict_platform_pc\n",
    "dict_platform_pc = dict(zip(df_platforms_pc['platform_id'], df_platforms_pc['platform_name']))\n",
    "\n",
    "dict_platform\n"
   ]
  },
  {
   "cell_type": "markdown",
   "metadata": {},
   "source": [
    "## IGDB + HLTB - Merged"
   ]
  },
  {
   "cell_type": "code",
   "execution_count": null,
   "metadata": {},
   "outputs": [],
   "source": [
    "if not os.path.exists('dataset_merged.csv'):\n",
    "\n",
    "    PATH = '../igdb_scarper/IGDB_metadata_merged/'\n",
    "\n",
    "    dataset = pd.DataFrame()\n",
    "    for platform in os.listdir(PATH):\n",
    "        # print(platform)\n",
    "\n",
    "        df_platform = pd.DataFrame()\n",
    "        \n",
    "        for file in os.listdir(PATH + platform):\n",
    "\n",
    "            try:\n",
    "                df_platform = pd.read_csv(PATH + platform + '/' + file, lineterminator='\\n', encoding=\"utf-8\")\n",
    "                dataset = pd.concat([dataset, df_platform])\n",
    "            except pd.errors.EmptyDataError:\n",
    "                # print(file, \" is empty and has been skipped.\")    \n",
    "                pass\n",
    "\n",
    "    dataset['first_release_date'] = pd.to_datetime(dataset['first_release_date'], unit='s')\n",
    "\n",
    "    # remove the duplicated ids\n",
    "    dataset = dataset.drop_duplicates(subset=['id'], keep='first')    \n",
    "    \n",
    "    dataset.to_csv('dataset_merged.csv', index=False, encoding='utf-8', lineterminator='\\n')\n",
    "\n",
    "\n",
    "dataset = pd.read_csv('dataset_merged.csv', lineterminator='\\n', encoding=\"utf-8\",\n",
    "                    converters={\"id\": str, \n",
    "                                \"first_release_date\": pd.to_datetime,\n",
    "                                \"platforms\": literal_eval,\n",
    "                                \"genres\": lambda x: x.strip(\"[]\").split(\", \") if x != 'Missing' else 'Missing'\n",
    "                                })\n",
    "\n",
    "dataset.info()"
   ]
  },
  {
   "cell_type": "code",
   "execution_count": null,
   "metadata": {},
   "outputs": [],
   "source": [
    "# Total number of games\n",
    "print(\"Total number of games: \", dataset.shape[0])\n"
   ]
  },
  {
   "cell_type": "code",
   "execution_count": null,
   "metadata": {},
   "outputs": [],
   "source": [
    "# show the missing values in the dataset\n",
    "dataset.isnull().sum()"
   ]
  },
  {
   "cell_type": "code",
   "execution_count": null,
   "metadata": {},
   "outputs": [],
   "source": [
    "# create a csv with the dataset with the platforms that are in dict_platform_xbox\n",
    "dataset_xbox = dataset[dataset['platforms'].apply(lambda x: any(item in dict_platform_xbox.keys() for item in x))]\n",
    "dataset_xbox.to_csv('dataset_xbox.csv', index=False, encoding='utf-8', lineterminator='\\n')\n",
    "\n",
    "# create a csv with the dataset with the platforms that are in dict_platform_nintendo\n",
    "dataset_nintendo = dataset[dataset['platforms'].apply(lambda x: any(item in dict_platform_nintendo.keys() for item in x))]\n",
    "dataset_nintendo.to_csv('dataset_nintendo.csv', index=False, encoding='utf-8', lineterminator='\\n')\n",
    "\n",
    "# create a csv with the dataset with the platforms that are in dict_platform_playstation\n",
    "dataset_playstation = dataset[dataset['platforms'].apply(lambda x: any(item in dict_platform_playstation.keys() for item in x))]\n",
    "dataset_playstation.to_csv('dataset_playstation.csv', index=False, encoding='utf-8', lineterminator='\\n')\n",
    "\n",
    "# create a csv with the dataset with the platforms that are in dict_platform_pc\n",
    "dataset_pc = dataset[dataset['platforms'].apply(lambda x: any(item in dict_platform_pc.keys() for item in x))]\n",
    "dataset_pc.to_csv('dataset_pc.csv', index=False, encoding='utf-8', lineterminator='\\n')\n"
   ]
  },
  {
   "cell_type": "code",
   "execution_count": null,
   "metadata": {},
   "outputs": [],
   "source": [
    "# count each platform\n",
    "print(\"Number of games in the xbox dataset: \", dataset_xbox.shape[0])\n",
    "print(\"Number of games in the nintendo dataset: \", dataset_nintendo.shape[0])\n",
    "print(\"Number of games in the playstation dataset: \", dataset_playstation.shape[0])\n",
    "print(\"Number of games in the pc dataset: \", dataset_pc.shape[0])\n",
    "\n",
    "# count the entries of all these datasets together\n",
    "print(\"Total number of games in the datasets: \", dataset_xbox.shape[0] + dataset_nintendo.shape[0] + dataset_playstation.shape[0] + dataset_pc.shape[0])"
   ]
  },
  {
   "cell_type": "markdown",
   "metadata": {},
   "source": [
    "# Platform"
   ]
  },
  {
   "cell_type": "markdown",
   "metadata": {},
   "source": [
    "## Games per platform"
   ]
  },
  {
   "cell_type": "code",
   "execution_count": null,
   "metadata": {},
   "outputs": [],
   "source": [
    "# number of games per platform\n",
    "games_per_platform = dataset['platforms'].apply(lambda x: x[0]).value_counts().sort_values(ascending=False)\n",
    "\n",
    "games_per_platform = pd.DataFrame(games_per_platform).reset_index().rename(columns={'platforms': 'platform_id'})\n",
    "games_per_platform['platform_id'] = games_per_platform['platform_id'].astype(int)\n",
    "games_per_platform = games_per_platform.merge(df_platforms, on='platform_id', how='left')\n",
    "games_per_platform.sort_values(by='count', ascending=False)\n",
    "\n",
    "games_per_platform['count'].sum()\n"
   ]
  },
  {
   "cell_type": "code",
   "execution_count": null,
   "metadata": {},
   "outputs": [],
   "source": [
    "# show the platforms that are in dict_platform\n",
    "games_per_platform[games_per_platform['platform_id'].isin(dict_platform.keys())].sort_values(by='count', ascending=False)   \n",
    "\n",
    "# show the platforms that are not in dict_platform\n",
    "# games_per_platform[~games_per_platform['platform_id'].isin(dict_platform.keys())].sort_values(by='count', ascending=False)"
   ]
  },
  {
   "cell_type": "code",
   "execution_count": null,
   "metadata": {},
   "outputs": [],
   "source": [
    "# show a list of the platforms \n",
    "games_per_platform[games_per_platform['platform_id'].isin(dict_platform.keys())]['platform_name'].unique()"
   ]
  },
  {
   "cell_type": "markdown",
   "metadata": {},
   "source": [
    "## Single platform games (exclusives)"
   ]
  },
  {
   "cell_type": "code",
   "execution_count": null,
   "metadata": {},
   "outputs": [],
   "source": [
    "\n",
    "# only single platform games\n",
    "dataset[dataset['platforms'].apply(lambda x: len(x) == 1)]\n",
    "\n",
    "# show only the single platform games in their respective platform\n",
    "games_single_platform = dataset[dataset['platforms'].apply(lambda x: len(x) == 1)]['platforms'].apply(lambda x: x[0]).value_counts()\n",
    "\n",
    "games_single_platform = pd.DataFrame(games_single_platform).reset_index().rename(columns={'platforms': 'platform_id'})\n",
    "games_single_platform['platform_id'] = games_single_platform['platform_id'].astype(int)\n",
    "games_single_platform = games_single_platform.merge(df_platforms, on='platform_id', how='left')\n",
    "games_single_platform.sort_values(by='count', ascending=False)\n",
    "\n",
    "# total number of single platform games\n",
    "print(\"Total number of single platform games: \", games_single_platform['count'].sum())\n",
    "\n",
    "games_single_platform\n"
   ]
  },
  {
   "cell_type": "markdown",
   "metadata": {},
   "source": [
    "# Genres"
   ]
  },
  {
   "cell_type": "markdown",
   "metadata": {},
   "source": [
    "## Games per genre"
   ]
  },
  {
   "cell_type": "code",
   "execution_count": null,
   "metadata": {},
   "outputs": [],
   "source": [
    "# remove values missing values in a column\n",
    "dataset['genres'].replace('Missing', np.nan, inplace=True)\n",
    "# replace '' with np.nan\n",
    "dataset['genres'].replace('', np.nan, inplace=True)\n",
    "\n",
    "print(\"Number of games with missing genres: \", dataset['genres'].isnull().sum())\n",
    "\n",
    "dataset['genres'].sort_values(ascending=True)"
   ]
  },
  {
   "cell_type": "code",
   "execution_count": null,
   "metadata": {},
   "outputs": [],
   "source": [
    "# remove genres values missing values\n",
    "dataset_no_nas = dataset.dropna(subset=['genres'])\n",
    "# remove lists with empty strings\n",
    "dataset_no_nas = dataset_no_nas[dataset_no_nas['genres'].apply(lambda x: x[0] != '')]\n",
    "\n",
    "games_per_genre = dataset_no_nas['genres'].apply(lambda x: x[0]).value_counts().sort_values(ascending=False)\n",
    "\n",
    "games_per_genre = pd.DataFrame(games_per_genre).reset_index().rename(columns={'genres': 'genre_id'})\n",
    "games_per_genre['genre_id'] = games_per_genre['genre_id'].astype(int)\n",
    "games_per_genre = games_per_genre.merge(df_genres, on='genre_id', how='left')\n",
    "games_per_genre.sort_values(by='count', ascending=False)\n",
    "\n",
    "games_per_genre['count'].sum()\n",
    "games_per_genre\n"
   ]
  },
  {
   "cell_type": "code",
   "execution_count": null,
   "metadata": {},
   "outputs": [],
   "source": [
    "# remove genres values missing values\n",
    "dataset_xbox_no_nas = dataset_xbox.dropna(subset=['genres'])\n",
    "# remove lists with empty strings\n",
    "dataset_xbox_no_nas = dataset_xbox_no_nas[dataset_xbox_no_nas['genres'].apply(lambda x: x[0] != 'M')]\n",
    "\n",
    "games_per_genre_xbox = dataset_xbox_no_nas['genres'].apply(lambda x: x[0]).value_counts().sort_values(ascending=False)\n",
    "games_per_genre_xbox = pd.DataFrame(games_per_genre_xbox).reset_index().rename(columns={'genres': 'genre_id'})\n",
    "games_per_genre_xbox['genre_id'] = games_per_genre_xbox['genre_id'].astype(int)\n",
    "games_per_genre_xbox = games_per_genre_xbox.merge(df_genres, on='genre_id', how='left')\n",
    "games_per_genre_xbox['platform'] = 'Xbox'\n",
    "\n",
    "games_per_genre_xbox.sort_values(by='count', ascending=False)\n",
    "\n",
    "# do the same for playstation\n",
    "# remove genres values missing values\n",
    "dataset_playstation_no_nas = dataset_playstation.dropna(subset=['genres'])\n",
    "# remove lists with empty strings\n",
    "dataset_playstation_no_nas = dataset_playstation_no_nas[dataset_playstation_no_nas['genres'].apply(lambda x: x[0] != 'M')]\n",
    "games_per_genre_playstation = dataset_playstation_no_nas['genres'].apply(lambda x: x[0]).value_counts().sort_values(ascending=False)\n",
    "games_per_genre_playstation = pd.DataFrame(games_per_genre_playstation).reset_index().rename(columns={'genres': 'genre_id'})\n",
    "games_per_genre_playstation['genre_id'] = games_per_genre_playstation['genre_id'].astype(int)\n",
    "games_per_genre_playstation = games_per_genre_playstation.merge(df_genres, on='genre_id', how='left')\n",
    "games_per_genre_playstation['platform'] = 'Playstation'\n",
    "games_per_genre_playstation.sort_values(by='count', ascending=False)\n",
    "\n",
    "# do the same for nintendo\n",
    "# remove genres values missing values\n",
    "dataset_nintendo_no_nas = dataset_nintendo.dropna(subset=['genres'])\n",
    "# remove lists with empty strings\n",
    "dataset_nintendo_no_nas = dataset_nintendo_no_nas[dataset_nintendo_no_nas['genres'].apply(lambda x: x[0] != 'M')]\n",
    "games_per_genre_nintendo = dataset_nintendo_no_nas['genres'].apply(lambda x: x[0]).value_counts().sort_values(ascending=False)\n",
    "games_per_genre_nintendo = pd.DataFrame(games_per_genre_nintendo).reset_index().rename(columns={'genres': 'genre_id'})\n",
    "games_per_genre_nintendo['genre_id'] = games_per_genre_nintendo['genre_id'].astype(int)\n",
    "games_per_genre_nintendo = games_per_genre_nintendo.merge(df_genres, on='genre_id', how='left')\n",
    "games_per_genre_nintendo['platform'] = 'Nintendo'\n",
    "games_per_genre_nintendo.sort_values(by='count', ascending=False)\n",
    "\n",
    "# do the same for pc\n",
    "# remove genres values missing values\n",
    "dataset_pc_no_nas = dataset_pc.dropna(subset=['genres'])\n",
    "# remove lists with empty strings\n",
    "dataset_pc_no_nas = dataset_pc_no_nas[dataset_pc_no_nas['genres'].apply(lambda x: x[0] != 'M')]\n",
    "dataset_pc_no_nas = dataset_pc_no_nas[dataset_pc_no_nas['genres'].apply(lambda x: x[0] != '')]\n",
    "games_per_genre_pc = dataset_pc_no_nas['genres'].apply(lambda x: x[0]).value_counts().sort_values(ascending=False)\n",
    "games_per_genre_pc = pd.DataFrame(games_per_genre_pc).reset_index().rename(columns={'genres': 'genre_id'})\n",
    "games_per_genre_pc['genre_id'] = games_per_genre_pc['genre_id'].astype(int)\n",
    "games_per_genre_pc = games_per_genre_pc.merge(df_genres, on='genre_id', how='left')\n",
    "games_per_genre_pc['platform'] = 'PC'\n",
    "games_per_genre_pc.sort_values(by='count', ascending=False)\n",
    "\n",
    "# merge all the platforms\n",
    "games_per_genre_all = pd.concat([games_per_genre_xbox, \n",
    "                                 games_per_genre_playstation, \n",
    "                                 games_per_genre_nintendo, \n",
    "                                 games_per_genre_pc])\n",
    "\n",
    "games_per_genre_all.sort_values(by='platform', ascending=False)\n",
    "\n",
    "# make the table: index, platform, genre, count\n",
    "games_per_genre_all = games_per_genre_all.reset_index().drop(columns=['index'])\n",
    "games_per_genre_all = games_per_genre_all.reset_index()\n",
    "games_per_genre_all = games_per_genre_all.rename(columns={'index': 'genre_rank'})\n",
    "games_per_genre_all['genre_rank'] = games_per_genre_all['genre_rank'] + 1\n",
    "games_per_genre_all = games_per_genre_all[['genre_rank', 'platform', 'genre_name', 'count']]\n",
    "games_per_genre_all.sort_values(by='count', ascending=False)[:10]\n",
    "\n",
    "# "
   ]
  },
  {
   "cell_type": "code",
   "execution_count": null,
   "metadata": {},
   "outputs": [],
   "source": [
    "\n",
    "# plot the percentage of the values in dict_rpg\n",
    "dict_rpg_percent = defaultdict(int)\n",
    "for key, value in dict_rpg.items():\n",
    "    dict_rpg_percent[key] = value / len(list_intersections_name) * 100\n",
    "\n",
    "dict_rpg_percent\n",
    "\n",
    "# plot a pie chart with the percentage of the values in dict_rpg\n",
    "fig = plt.figure(figsize=(10, 10))\n",
    "plt.pie(dict_rpg_percent.values(), labels=dict_rpg_percent.keys(), autopct='%1.1f%%', startangle=90)\n",
    "plt.title(\"Percentage of the genres that appear together with 'Role-playing (RPG)'\")\n",
    "plt.show()\n"
   ]
  },
  {
   "cell_type": "markdown",
   "metadata": {},
   "source": [
    "# Year"
   ]
  },
  {
   "cell_type": "markdown",
   "metadata": {},
   "source": [
    "## Games per Year"
   ]
  },
  {
   "cell_type": "code",
   "execution_count": null,
   "metadata": {},
   "outputs": [],
   "source": [
    "\n",
    "# games_per_year = dataset['first_release_date'].dt.year.value_counts().sort_index().reset_index()\n",
    "# games_per_year.columns = ['year', 'count']\n",
    "# games_per_year.sort_values(by='year', ascending=False)\n",
    "\n",
    "# table with the number of games per year keep years type\n",
    "dataset['first_release_date'].dt.year.value_counts()\n",
    "\n",
    "# dataset.head()\n"
   ]
  },
  {
   "cell_type": "code",
   "execution_count": null,
   "metadata": {},
   "outputs": [],
   "source": [
    "df = dataset\n",
    "# only games that have a genre contains '12'\n",
    "# df = dataset_no_nas[dataset_no_nas['genres'].apply(lambda x: '12' in x)]\n",
    "\n",
    "fig, ax = plt.subplots(figsize=(10, 10))\n",
    "fig.tight_layout()\n",
    "# fig.subplots_adjust(left=None, bottom=None, right=None, top=None, wspace=None, hspace=0.2)\n",
    "\n",
    "ax.hist(df['first_release_date'], \n",
    "        bins=len(df['first_release_date'].dt.year.unique()),\n",
    "        color='lightgray', \n",
    "        edgecolor='black',\n",
    "        align='left',\n",
    "        linewidth=1.2)\n",
    "\n",
    "# y labels rounded to 1K, 2K, 3K, etc\n",
    "ax.set_yticklabels(['{:,.0f}'.format(x) + 'K' for x in ax.get_yticks()/1000])\n",
    "\n",
    "# add number of games on top of each bar\n",
    "# for i in ax.patches:\n",
    "#     ax.text(i.get_x() + i.get_width() / 2, i.get_height() + 100, str(int(i.get_height())), \n",
    "#             fontsize=16, rotation=90, ha='center', va='bottom', color='black')\n",
    "\n",
    "# add a second y axis with the average main value per year from main_per_year\n",
    "main_per_year = df[(df['main'] != 0)].groupby(\n",
    "    df['first_release_date'].dt.year)['main'].mean().reset_index().rename(columns={'main': 'mean_main'})\n",
    "# add the completionist time per year\n",
    "main_per_year['mean_completionist'] = df[(df['completionist'] != 0)].groupby(\n",
    "    df['first_release_date'].dt.year)['completionist'].mean().reset_index()['completionist']\n",
    "# add the main+extra time per year\n",
    "main_per_year['mean_main_extra'] = df[(df['extra'] != 0)].groupby(\n",
    "    dataset['first_release_date'].dt.year)['extra'].mean().reset_index()['extra']\n",
    "# transform the year to datetime\n",
    "main_per_year['first_release_date'] = pd.to_datetime(main_per_year['first_release_date'], format='%Y')\n",
    "\n",
    "ax2 = ax.twinx()\n",
    "ax2.plot(main_per_year['first_release_date'], main_per_year['mean_main'], \n",
    "         color='red', linewidth=3, linestyle='--', label='main', alpha=0.5, marker='o', markersize=10, markerfacecolor='red', markeredgecolor='red', markeredgewidth=2)\n",
    "ax2.plot(main_per_year['first_release_date'], main_per_year['mean_completionist'], \n",
    "         color='blue', linewidth=3, linestyle='--', label='completionist', alpha=0.5, marker='o', markersize=10, markerfacecolor='blue', markeredgecolor='blue', markeredgewidth=2)\n",
    "ax2.plot(main_per_year['first_release_date'], main_per_year['mean_main_extra'], \n",
    "         color='green', linewidth=3, linestyle='--', label='main+extra', alpha=0.5, marker='o', markersize=10, markerfacecolor='green', markeredgecolor='green', markeredgewidth=2)\n",
    "ax2.set_ylabel('Average time to complete the game (hours)')\n",
    "\n",
    "# add legend\n",
    "# ax.legend(loc='upper left')\n",
    "ax2.legend(loc='upper left', fontsize=16)\n",
    "\n",
    "# increase the size of the x and y axis labels\n",
    "ax.tick_params(axis='both', which='major', labelsize=16)\n",
    "ax2.tick_params(axis='both', which='major', labelsize=16)\n",
    "\n",
    "# increase the font size of the x and y axis labels\n",
    "ax.xaxis.label.set_size(18)\n",
    "ax.yaxis.label.set_size(18)\n",
    "ax2.yaxis.label.set_size(18)\n",
    "\n",
    "ax.set_xlabel('Year')\n",
    "ax.set_ylabel('Number of games')\n",
    "# ax.set_title('Number of games per year')\n",
    "\n",
    "# # add horizontal grid lines\n",
    "ax.grid(axis='y', alpha=0.75)\n",
    "# add more horizontal grid lines\n",
    "ax.grid(axis='y', which='major', alpha=0.25)\n",
    "\n",
    "\n",
    "ax.xaxis.set_major_locator(dates.YearLocator(2))\n",
    "ax.xaxis.set_major_formatter(dates.DateFormatter('%y'))\n",
    "# show only not even years\n",
    "ax.xaxis.set_minor_locator(dates.YearLocator())\n",
    "ax.xaxis.set_minor_formatter(dates.DateFormatter('%y'))\n",
    "\n",
    "# plt.style.available\n",
    "fig.savefig('hist.pdf', format='pdf', bbox_inches=\"tight\", dpi=300)\n"
   ]
  },
  {
   "cell_type": "code",
   "execution_count": null,
   "metadata": {},
   "outputs": [],
   "source": [
    "# compare the time to complete the RPG games with Shooter games\n",
    "df_rpg = df[df['genres'].apply(lambda x: '12' in x)]\n",
    "df_shooter = df[df['genres'].apply(lambda x: '5' in x)]\n",
    "\n",
    "df_rpg.head()\n",
    "df_shooter.head()\n",
    "\n",
    "df_rpg['main'].mean()\n",
    "# df_shooter['main'].mean()\n",
    "\n"
   ]
  }
 ],
 "metadata": {
  "kernelspec": {
   "display_name": "venv",
   "language": "python",
   "name": "python3"
  },
  "language_info": {
   "codemirror_mode": {
    "name": "ipython",
    "version": 3
   },
   "file_extension": ".py",
   "mimetype": "text/x-python",
   "name": "python",
   "nbconvert_exporter": "python",
   "pygments_lexer": "ipython3",
   "version": "3.9.17"
  }
 },
 "nbformat": 4,
 "nbformat_minor": 2
}
