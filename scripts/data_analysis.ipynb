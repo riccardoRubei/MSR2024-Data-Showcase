{
 "cells": [
  {
   "cell_type": "code",
   "execution_count": null,
   "metadata": {},
   "outputs": [],
   "source": [
    "import pandas as pd\n",
    "import numpy as np\n",
    "import matplotlib.pyplot as plt\n",
    "import matplotlib.dates as dates\n",
    "import os\n",
    "import math\n",
    "from ast import literal_eval\n",
    "from collections import defaultdict\n",
    "from matplotlib_venn import venn3, venn3_circles\n",
    "from matplotlib_venn import venn2, venn2_circles\n"
   ]
  },
  {
   "cell_type": "markdown",
   "metadata": {},
   "source": [
    "# Datasets"
   ]
  },
  {
   "cell_type": "markdown",
   "metadata": {},
   "source": [
    "## Genres and Platforms"
   ]
  },
  {
   "cell_type": "code",
   "execution_count": null,
   "metadata": {},
   "outputs": [],
   "source": [
    "df_genres = pd.read_csv('../genres.csv', header=None)\n",
    "df_genres.columns = ['genre_id', 'genre_name']\n",
    "\n",
    "df_platforms = pd.read_csv('../platforms.csv', header=None)\n",
    "df_platforms.columns = ['platform_id', 'platform_name']\n",
    "\n",
    "list_platform_ps = ['PlayStation 4', 'PlayStation 3', 'PlayStation 2', 'PlayStation', 'PlayStation Vita', 'PlayStation Portable']\n",
    "list_platform_xbox = ['Xbox One', 'Xbox 360', 'Xbox', 'Xbox Live Arcade']\n",
    "list_platform_pc = ['PC (Microsoft Windows)', 'PC DOS', 'Mac', 'Linux']\n",
    "\n",
    "# show genres columns\n",
    "df_genres.head()"
   ]
  },
  {
   "cell_type": "markdown",
   "metadata": {},
   "source": [
    "## HLTB"
   ]
  },
  {
   "cell_type": "code",
   "execution_count": null,
   "metadata": {},
   "outputs": [],
   "source": [
    "if not os.path.exists('dataset_hltb.csv'):\n",
    "\n",
    "    PATH = '../igdb_scarper/hl2b/'\n",
    "\n",
    "    dataset_hltb = pd.DataFrame()\n",
    "        \n",
    "    for file in os.listdir(PATH):\n",
    "\n",
    "        try:\n",
    "            df = pd.read_csv(PATH + '/' + file, lineterminator='\\n', encoding=\"utf-8\",)\n",
    "            dataset_hltb = pd.concat([dataset_hltb, df])\n",
    "        except pd.errors.EmptyDataError:\n",
    "            print(file, \" is empty and has been skipped.\")    \n",
    "            # pass\n",
    "\n",
    "    dataset_hltb = dataset_hltb.drop(columns=['Unnamed: 0'])    \n",
    "    dataset_hltb = dataset_hltb.drop_duplicates(subset=['name'], keep='first')\n",
    "\n",
    "    dataset_hltb.to_csv('dataset_hltb.csv', index=False, encoding='utf-8', lineterminator='\\n')\n",
    "\n",
    "    dataset_hltb.info()\n"
   ]
  },
  {
   "cell_type": "markdown",
   "metadata": {},
   "source": [
    "## IGDB"
   ]
  },
  {
   "cell_type": "code",
   "execution_count": null,
   "metadata": {},
   "outputs": [],
   "source": [
    "if not os.path.exists('dataset_igdb.csv'):\n",
    "\n",
    "    PATH = '../igdb_scarper/IGDB_metadata/'\n",
    "\n",
    "    dataset = pd.DataFrame()\n",
    "    for platform in os.listdir(PATH):\n",
    "        # print(platform)\n",
    "\n",
    "        df_platform = pd.DataFrame()\n",
    "        \n",
    "        for file in os.listdir(PATH + platform):\n",
    "\n",
    "            try:\n",
    "                df_platform = pd.read_csv(PATH + platform + '/' + file, lineterminator='\\n', encoding=\"utf-8\")\n",
    "                dataset = pd.concat([dataset, df_platform])\n",
    "            except pd.errors.EmptyDataError:\n",
    "                # print(file, \" is empty and has been skipped.\")    \n",
    "                pass\n",
    "\n",
    "    dataset['first_release_date'] = pd.to_datetime(dataset['first_release_date'], unit='s')\n",
    "\n",
    "    # remove the duplicated ids\n",
    "    dataset = dataset.drop_duplicates(subset=['id'], keep='first')\n",
    "    \n",
    "    dataset.to_csv('dataset_igdb.csv', index=False, encoding='utf-8', lineterminator='\\n')\n",
    "\n",
    "    dataset.info()"
   ]
  },
  {
   "cell_type": "markdown",
   "metadata": {},
   "source": [
    "## IGDB + HLTB"
   ]
  },
  {
   "cell_type": "code",
   "execution_count": null,
   "metadata": {},
   "outputs": [],
   "source": [
    "if not os.path.exists('dataset_igdb_hltb.csv'):\n",
    "\n",
    "    dataset_hltb = pd.read_csv('dataset_hltb.csv', lineterminator='\\n', encoding=\"utf-8\")\n",
    "\n",
    "    dataset = pd.read_csv('dataset_igdb.csv', lineterminator='\\n', encoding=\"utf-8\")\n",
    "\n",
    "    # concatenate the two datasets\n",
    "    dataset = pd.merge(dataset, dataset_hltb, how='left', left_on='name', right_on='name')\n",
    "\n",
    "    dataset.to_csv('dataset_igdb_hltb.csv', index=False, encoding='utf-8', lineterminator='\\n')\n",
    "\n",
    "else:\n",
    "    dataset = pd.read_csv('dataset_igdb_hltb.csv', lineterminator='\\n', encoding=\"utf-8\",\n",
    "                            converters={\"id\": str, \n",
    "                                        \"first_release_date\": pd.to_datetime,\n",
    "                                        \"platforms\": literal_eval,\n",
    "                                        \"genres\": lambda x: x.strip(\"[]\").split(\", \") if x != 'Missing' else 'Missing'\n",
    "                                        })\n",
    "\n",
    "dataset.info()\n"
   ]
  },
  {
   "cell_type": "code",
   "execution_count": null,
   "metadata": {},
   "outputs": [],
   "source": [
    "# Total number of games\n",
    "print(\"Total number of games: \", dataset.shape[0])\n"
   ]
  },
  {
   "cell_type": "code",
   "execution_count": null,
   "metadata": {},
   "outputs": [],
   "source": [
    "# show the missing values in the dataset\n",
    "dataset.isnull().sum()"
   ]
  },
  {
   "cell_type": "markdown",
   "metadata": {},
   "source": [
    "# Platform"
   ]
  },
  {
   "cell_type": "markdown",
   "metadata": {},
   "source": [
    "## Games per platform"
   ]
  },
  {
   "cell_type": "code",
   "execution_count": null,
   "metadata": {},
   "outputs": [],
   "source": [
    "# number of games per platform\n",
    "games_per_platform = dataset['platforms'].apply(lambda x: x[0]).value_counts().sort_values(ascending=False)\n",
    "\n",
    "games_per_platform = pd.DataFrame(games_per_platform).reset_index().rename(columns={'platforms': 'platform_id'})\n",
    "games_per_platform['platform_id'] = games_per_platform['platform_id'].astype(int)\n",
    "games_per_platform = games_per_platform.merge(df_platforms, on='platform_id', how='left')\n",
    "games_per_platform.sort_values(by='count', ascending=False)\n",
    "\n",
    "games_per_platform['count'].sum()\n",
    "games_per_platform\n"
   ]
  },
  {
   "cell_type": "markdown",
   "metadata": {},
   "source": [
    "## Single platform games (exclusives)"
   ]
  },
  {
   "cell_type": "code",
   "execution_count": null,
   "metadata": {},
   "outputs": [],
   "source": [
    "\n",
    "# only single platform games\n",
    "dataset[dataset['platforms'].apply(lambda x: len(x) == 1)]\n",
    "\n",
    "# show only the single platform games in their respective platform\n",
    "games_single_platform = dataset[dataset['platforms'].apply(lambda x: len(x) == 1)]['platforms'].apply(lambda x: x[0]).value_counts()\n",
    "\n",
    "games_single_platform = pd.DataFrame(games_single_platform).reset_index().rename(columns={'platforms': 'platform_id'})\n",
    "games_single_platform['platform_id'] = games_single_platform['platform_id'].astype(int)\n",
    "games_single_platform = games_single_platform.merge(df_platforms, on='platform_id', how='left')\n",
    "games_single_platform.sort_values(by='count', ascending=False)\n",
    "\n",
    "# total number of single platform games\n",
    "print(\"Total number of single platform games: \", games_single_platform['count'].sum())\n"
   ]
  },
  {
   "cell_type": "markdown",
   "metadata": {},
   "source": [
    "# Genres"
   ]
  },
  {
   "cell_type": "markdown",
   "metadata": {},
   "source": [
    "## Games per genre"
   ]
  },
  {
   "cell_type": "code",
   "execution_count": null,
   "metadata": {},
   "outputs": [],
   "source": [
    "# remove values missing values in a column\n",
    "dataset['genres'].replace('Missing', np.nan, inplace=True)\n",
    "# replace '' with np.nan\n",
    "dataset['genres'].replace('', np.nan, inplace=True)\n",
    "\n",
    "print(\"Number of games with missing genres: \", dataset['genres'].isnull().sum())\n",
    "\n",
    "dataset['genres'].sort_values(ascending=True)"
   ]
  },
  {
   "cell_type": "code",
   "execution_count": null,
   "metadata": {},
   "outputs": [],
   "source": [
    "# remove genres values missing values\n",
    "dataset_no_nas = dataset.dropna(subset=['genres'])\n",
    "# remove lists with empty strings\n",
    "dataset_no_nas = dataset_no_nas[dataset_no_nas['genres'].apply(lambda x: x[0] != '')]\n",
    "\n",
    "games_per_genre = dataset_no_nas['genres'].apply(lambda x: x[0]).value_counts().sort_values(ascending=False)\n",
    "\n",
    "games_per_genre = pd.DataFrame(games_per_genre).reset_index().rename(columns={'genres': 'genre_id'})\n",
    "games_per_genre['genre_id'] = games_per_genre['genre_id'].astype(int)\n",
    "games_per_genre = games_per_genre.merge(df_genres, on='genre_id', how='left')\n",
    "games_per_genre.sort_values(by='count', ascending=False)\n",
    "\n",
    "games_per_genre['count'].sum()\n",
    "games_per_genre\n"
   ]
  },
  {
   "cell_type": "markdown",
   "metadata": {},
   "source": [
    "## RPG venn"
   ]
  },
  {
   "cell_type": "code",
   "execution_count": null,
   "metadata": {},
   "outputs": [],
   "source": [
    "# list all games that contains the genre '12' in the list of genres\n",
    "dataset_rpg = dataset_no_nas[dataset_no_nas['genres'].apply(lambda x: '12' in x)]\n",
    "\n",
    "# venn diagram with the genres in the dataset_rpg\n",
    "games_per_genre_rpg = dataset_rpg['genres'].apply(lambda x: x[0]).value_counts().sort_values(ascending=False)\n",
    "\n",
    "games_per_genre_rpg = pd.DataFrame(games_per_genre_rpg).reset_index().rename(columns={'genres': 'genre_id'})\n",
    "games_per_genre_rpg['genre_id'] = games_per_genre_rpg['genre_id'].astype(int)\n",
    "games_per_genre_rpg = games_per_genre_rpg.merge(df_genres, on='genre_id', how='left')\n",
    "games_per_genre_rpg.sort_values(by='count', ascending=False)\n",
    "\n",
    "# venn diagram\n",
    "fig = plt.figure(figsize=(8, 8))\n",
    "\n",
    "v = venn3(subsets=(games_per_genre_rpg['count'][0], \n",
    "               games_per_genre_rpg['count'][1], \n",
    "               games_per_genre_rpg['count'][2], \n",
    "               games_per_genre_rpg['count'][3], \n",
    "               games_per_genre_rpg['count'][4], \n",
    "               games_per_genre_rpg['count'][5], \n",
    "               games_per_genre_rpg['count'][6],\n",
    "               games_per_genre_rpg['count'][7],\n",
    "               games_per_genre_rpg['count'][8]))\n",
    "\n",
    "c = venn3_circles(subsets=(games_per_genre_rpg['count'][0], \n",
    "               games_per_genre_rpg['count'][1], \n",
    "               games_per_genre_rpg['count'][2], \n",
    "               games_per_genre_rpg['count'][3], \n",
    "               games_per_genre_rpg['count'][4], \n",
    "               games_per_genre_rpg['count'][5], \n",
    "               games_per_genre_rpg['count'][6],\n",
    "               games_per_genre_rpg['count'][7],\n",
    "               games_per_genre_rpg['count'][8]))\n",
    "\n",
    "# c[0].set_lw(1.0)\n",
    "# c[0].set_ls('dotted')\n",
    "\n",
    "# remove the labels\n",
    "for text in v.set_labels:\n",
    "     text.set_text(\"\")\n",
    "\n",
    "# plt.title(\"Venn diagram of the genres\")\n",
    "\n",
    "plt.legend(games_per_genre_rpg['genre_name'].tolist())\n",
    "\n",
    "# plt.show()\n",
    "\n",
    "games_per_genre_rpg\n"
   ]
  },
  {
   "cell_type": "markdown",
   "metadata": {},
   "source": [
    "# Year"
   ]
  },
  {
   "cell_type": "markdown",
   "metadata": {},
   "source": [
    "## Games per Year"
   ]
  },
  {
   "cell_type": "code",
   "execution_count": null,
   "metadata": {},
   "outputs": [],
   "source": [
    "\n",
    "# games_per_year = dataset['first_release_date'].dt.year.value_counts().sort_index().reset_index()\n",
    "# games_per_year.columns = ['year', 'count']\n",
    "# games_per_year.sort_values(by='year', ascending=False)\n",
    "\n",
    "# table with the number of games per year keep years type\n",
    "dataset['first_release_date'].dt.year.value_counts()\n",
    "\n",
    "# dataset.head()\n"
   ]
  },
  {
   "cell_type": "code",
   "execution_count": null,
   "metadata": {},
   "outputs": [],
   "source": [
    "# plot the games per year\n",
    "fig, ax = plt.subplots(figsize=(20, 10))\n",
    "fig.tight_layout()\n",
    "# fig.subplots_adjust(left=None, bottom=None, right=None, top=None, wspace=None, hspace=0.2)\n",
    "\n",
    "# dataset = dataset[(dataset['first_release_date'].dt.year != 1992) & (dataset['first_release_date'].dt.year != 2024)]\n",
    "\n",
    "# start_year = dataset['first_release_date'].dt.year.min()\n",
    "# end_year = dataset['first_release_date'].dt.year.max()\n",
    "\n",
    "# bin_edges = np.arange(start=start_year, stop=end_year + 1, step=1)\n",
    "\n",
    "# Convert bin_edges back to datetime for plotting\n",
    "# bin_edges = pd.to_datetime(bin_edges, format='%Y')\n",
    "\n",
    "ax.hist(dataset['first_release_date'], \n",
    "        bins=len(dataset['first_release_date'].dt.year.unique()),\n",
    "        color='lightgray', \n",
    "        edgecolor='black',\n",
    "        align='left',\n",
    "        linewidth=1.2)\n",
    "\n",
    "# add number of games on top of each bar\n",
    "for i in ax.patches:\n",
    "    ax.text(i.get_x() + i.get_width() / 2, i.get_height() + 100, str(int(i.get_height())), \n",
    "            fontsize=16, rotation=90, ha='center', va='bottom', color='black')\n",
    "\n",
    "# add a second y axis with the average main value per year from main_per_year\n",
    "main_per_year = dataset[(dataset['main'] != 0)].groupby(\n",
    "    dataset['first_release_date'].dt.year)['main'].mean().reset_index().rename(columns={'main': 'mean_main'})\n",
    "# add the completionist time per year\n",
    "main_per_year['mean_completionist'] = dataset[(dataset['completionist'] != 0)].groupby(\n",
    "    dataset['first_release_date'].dt.year)['completionist'].mean().reset_index()['completionist']\n",
    "# add the main+extra time per year\n",
    "main_per_year['mean_main_extra'] = dataset[(dataset['extra'] != 0)].groupby(\n",
    "    dataset['first_release_date'].dt.year)['extra'].mean().reset_index()['extra']\n",
    "# transform the year to datetime\n",
    "main_per_year['first_release_date'] = pd.to_datetime(main_per_year['first_release_date'], format='%Y')\n",
    "\n",
    "ax2 = ax.twinx()\n",
    "ax2.plot(main_per_year['first_release_date'], main_per_year['mean_main'], \n",
    "         color='red', linewidth=3, linestyle='--', label='main', alpha=0.5, marker='o', markersize=10, markerfacecolor='red', markeredgecolor='red', markeredgewidth=2)\n",
    "ax2.plot(main_per_year['first_release_date'], main_per_year['mean_completionist'], \n",
    "         color='blue', linewidth=3, linestyle='--', label='completionist', alpha=0.5, marker='o', markersize=10, markerfacecolor='blue', markeredgecolor='blue', markeredgewidth=2)\n",
    "ax2.plot(main_per_year['first_release_date'], main_per_year['mean_main_extra'], \n",
    "         color='green', linewidth=3, linestyle='--', label='main+extra', alpha=0.5, marker='o', markersize=10, markerfacecolor='green', markeredgecolor='green', markeredgewidth=2)\n",
    "ax2.set_ylabel('Average time to complete the game (hours)')\n",
    "\n",
    "# add legend\n",
    "# ax.legend(loc='upper left')\n",
    "ax2.legend(loc='upper left', fontsize=16)\n",
    "\n",
    "# increase the size of the x and y axis labels\n",
    "ax.tick_params(axis='both', which='major', labelsize=16)\n",
    "ax2.tick_params(axis='both', which='major', labelsize=16)\n",
    "\n",
    "# increase the font size of the x and y axis labels\n",
    "ax.xaxis.label.set_size(18)\n",
    "ax.yaxis.label.set_size(18)\n",
    "ax2.yaxis.label.set_size(18)\n",
    "\n",
    "ax.set_xlabel('Year')\n",
    "ax.set_ylabel('Number of games')\n",
    "# ax.set_title('Number of games per year')\n",
    "\n",
    "# # add horizontal grid lines\n",
    "ax.grid(axis='y', alpha=0.75)\n",
    "\n",
    "ax.xaxis.set_major_locator(dates.YearLocator())\n",
    "ax.xaxis.set_major_formatter(dates.DateFormatter('%y'))\n",
    "\n",
    "# plt.style.available\n",
    "fig.savefig('hist.pdf', bbox_inches=\"tight\", dpi=300, format='pdf')\n"
   ]
  }
 ],
 "metadata": {
  "kernelspec": {
   "display_name": "venv",
   "language": "python",
   "name": "python3"
  },
  "language_info": {
   "codemirror_mode": {
    "name": "ipython",
    "version": 3
   },
   "file_extension": ".py",
   "mimetype": "text/x-python",
   "name": "python",
   "nbconvert_exporter": "python",
   "pygments_lexer": "ipython3",
   "version": "3.9.17"
  }
 },
 "nbformat": 4,
 "nbformat_minor": 2
}
